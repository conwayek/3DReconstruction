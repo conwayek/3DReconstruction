{
 "cells": [
  {
   "cell_type": "code",
   "execution_count": 1,
   "id": "fa506f30",
   "metadata": {},
   "outputs": [],
   "source": [
    "import matplotlib.pyplot as plt\n",
    "from scipy import signal\n",
    "import math\n",
    "import time\n",
    "from interp3d import interp_3d\n",
    "from scipy.interpolate import RegularGridInterpolator\n",
    "import rasterio\n",
    "import os\n",
    "import numpy as np\n",
    "import tqdm\n",
    "import glob\n",
    "from pyproj import Proj,transform\n",
    "import matplotlib.gridspec as gridspec\n",
    "import py3dep\n",
    "from shapely.geometry import Polygon"
   ]
  },
  {
   "cell_type": "code",
   "execution_count": 2,
   "id": "73a93075",
   "metadata": {},
   "outputs": [
    {
     "name": "stdout",
     "output_type": "stream",
     "text": [
      "['/scratch/e.conway/3DReconstruction/Jacksonville/Analysis/4_aggregate_3d_dsm.tif', '/scratch/e.conway/3DReconstruction/Jacksonville/Analysis/3_aggregate_3d_dsm.tif', '/scratch/e.conway/3DReconstruction/Jacksonville/Analysis/2_aggregate_3d_dsm.tif', '/scratch/e.conway/3DReconstruction/Jacksonville/Analysis/1_aggregate_3d_dsm.tif']\n"
     ]
    }
   ],
   "source": [
    "files = glob.glob(os.getcwd()+'/*aggregate_3d_dsm.tif')\n",
    "print(files)"
   ]
  },
  {
   "cell_type": "code",
   "execution_count": 3,
   "id": "8ad85d6c-1265-4fca-8957-f145f67d1249",
   "metadata": {},
   "outputs": [],
   "source": [
    "files = np.array(files)\n",
    "nfiles = len(files)"
   ]
  },
  {
   "cell_type": "code",
   "execution_count": 4,
   "id": "91a675a2-c84a-411f-94ad-a15eb2980885",
   "metadata": {},
   "outputs": [],
   "source": [
    "# Step 1 - make a large 2d array of lon and lat, for which we have coverage\n",
    "# nfiles = n limits of lon/lat\n",
    "\n",
    "minima_lat = np.zeros(nfiles)\n",
    "minima_lon = np.zeros(nfiles)\n",
    "maxima_lat = np.zeros(nfiles)\n",
    "maxima_lon = np.zeros(nfiles)\n",
    "file_order = np.zeros(nfiles)\n",
    "raw_lon = np.ndarray(shape=(nfiles),dtype=np.object_)#np.zeros((200,nfiles))\n",
    "raw_lat = np.ndarray(shape=(nfiles),dtype=np.object_)#np.zeros((200,nfiles))\n",
    "\n",
    "func = np.ndarray(shape=(nfiles),dtype=np.object_)"
   ]
  },
  {
   "cell_type": "code",
   "execution_count": 5,
   "id": "959b761b-166f-46f0-b04b-8bcd616d7f37",
   "metadata": {},
   "outputs": [
    {
     "name": "stderr",
     "output_type": "stream",
     "text": [
      "/tmp/ipykernel_2232/3023474311.py:13: DeprecationWarning: This function is deprecated. See: https://pyproj4.github.io/pyproj/stable/gotchas.html#upgrading-to-pyproj-2-from-pyproj-1\n",
      "  y1,x1 = transform(inProj,outProj,np.array([bounds[0],bounds[2]]),np.array([bounds[1],bounds[3]]))\n",
      "/tmp/ipykernel_2232/3023474311.py:13: DeprecationWarning: This function is deprecated. See: https://pyproj4.github.io/pyproj/stable/gotchas.html#upgrading-to-pyproj-2-from-pyproj-1\n",
      "  y1,x1 = transform(inProj,outProj,np.array([bounds[0],bounds[2]]),np.array([bounds[1],bounds[3]]))\n",
      "/tmp/ipykernel_2232/3023474311.py:13: DeprecationWarning: This function is deprecated. See: https://pyproj4.github.io/pyproj/stable/gotchas.html#upgrading-to-pyproj-2-from-pyproj-1\n",
      "  y1,x1 = transform(inProj,outProj,np.array([bounds[0],bounds[2]]),np.array([bounds[1],bounds[3]]))\n",
      "/tmp/ipykernel_2232/3023474311.py:13: DeprecationWarning: This function is deprecated. See: https://pyproj4.github.io/pyproj/stable/gotchas.html#upgrading-to-pyproj-2-from-pyproj-1\n",
      "  y1,x1 = transform(inProj,outProj,np.array([bounds[0],bounds[2]]),np.array([bounds[1],bounds[3]]))\n"
     ]
    }
   ],
   "source": [
    "for i in range(nfiles):\n",
    "    with rasterio.open(files[i],'r') as df:\n",
    "        band = df.read()\n",
    "        band = band.transpose((1,2,0))\n",
    "        band = band[::-1,:,:]\n",
    "        crs = df.crs\n",
    "        bounds = df.bounds\n",
    "        #print(bounds)\n",
    "        #print(crs)\n",
    "        trans = df.transform\n",
    "        inProj =  Proj(crs)\n",
    "        outProj = Proj('epsg:4326')\n",
    "        y1,x1 = transform(inProj,outProj,np.array([bounds[0],bounds[2]]),np.array([bounds[1],bounds[3]]))\n",
    "\n",
    "        maxima_lon[i] = x1[1]\n",
    "        minima_lon[i] = x1[0]\n",
    "        maxima_lat[i] = y1[1]\n",
    "        minima_lat[i] = y1[0]\n",
    "        \n",
    "        raw_lon[i] = np.linspace(minima_lon[i],maxima_lon[i],band.shape[1])\n",
    "        raw_lat[i] = np.linspace(minima_lat[i],maxima_lat[i],band.shape[0])[::-1]\n",
    "        \n",
    "    t = np.ones((band.shape))\n",
    "    iband = np.concatenate((band,t),axis=2)\n",
    "    iband = np.concatenate((iband,t),axis=2)\n",
    "    iband[:,:,1] = iband[:,:,0]\n",
    "    \n",
    "    z = np.ones(3)\n",
    "    z[0] = 0\n",
    "    z[1] = 1\n",
    "    z[2] = 2\n",
    "\n",
    "    func[i] = interp_3d.Interp3D(iband,raw_lat[i],raw_lon[i],z)\n",
    "    #func[i] = RegularGridInterpolator((raw_lat[i],raw_lon[i]),band)\n",
    "    "
   ]
  },
  {
   "cell_type": "code",
   "execution_count": 12,
   "id": "29800062-cd9c-4735-b39c-2c3d30e0e56a",
   "metadata": {},
   "outputs": [],
   "source": [
    "nlon=0\n",
    "nlat=0\n",
    "lon=[]\n",
    "lat=[]\n",
    "for i in range(nfiles):\n",
    "    if(i==0):\n",
    "        lat.append(raw_lat[i])\n",
    "        lon.append(raw_lon[i])\n",
    "        lat=np.array(lat)\n",
    "        lon=np.array(lon)\n",
    "        lon = lon.flatten()\n",
    "        lat = lat.flatten()\n",
    "    else:\n",
    "        lat = np.concatenate((lat,raw_lat[i]))\n",
    "        lon = np.concatenate((lon,raw_lon[i]))\n",
    "\n",
    "\n",
    "\n",
    "lat = np.linspace(np.min(lat) , np.max(lat), 3200 )\n",
    "lon = np.linspace(np.min(lon) , np.max(lon), 3200 )"
   ]
  },
  {
   "cell_type": "code",
   "execution_count": 13,
   "id": "3067ad18-3f4d-49cc-84f0-63ed0a6c219e",
   "metadata": {},
   "outputs": [
    {
     "name": "stderr",
     "output_type": "stream",
     "text": [
      "100%|██████████| 3200/3200 [01:14<00:00, 43.03it/s]\n"
     ]
    }
   ],
   "source": [
    "elev = np.zeros((len(lat),len(lon)))\n",
    "for i in tqdm.tqdm(range(len(lon))):\n",
    "    #print(i)\n",
    "    for k in range(len(lat)):\n",
    "        done=False\n",
    "        for j in range(nfiles):\n",
    "            if( (lon[i] <= maxima_lon[j] ) and (lat[k] <= maxima_lat[j]) and (lon[i] >= minima_lon[j] ) and (lat[k] >= minima_lat[j]) ):\n",
    "                elev[k,i] = func[j]((lat[k],lon[i],0.0000))\n",
    "                done=True\n",
    "                #if(elev[k,i] < -1000 ):\n",
    "                #    elev[k,i] = np.nan\n"
   ]
  },
  {
   "cell_type": "code",
   "execution_count": 14,
   "id": "0cfd0ad9-6ba1-4d3f-89bb-7dce9600b02b",
   "metadata": {},
   "outputs": [
    {
     "name": "stderr",
     "output_type": "stream",
     "text": [
      "/tmp/ipykernel_2232/4170206672.py:11: DeprecationWarning: This function is deprecated. See: https://pyproj4.github.io/pyproj/stable/gotchas.html#upgrading-to-pyproj-2-from-pyproj-1\n",
      "  y1,x1 = transform(inProj,outProj,np.array([bounds[0],bounds[2]]),np.array([bounds[1],bounds[3]]))\n"
     ]
    }
   ],
   "source": [
    "usgs = '3DEP_USGS10m.tif'\n",
    "with rasterio.open(usgs,'r') as df:\n",
    "        lidar = df.read()\n",
    "        lidar = lidar.transpose((1,2,0))\n",
    "        lidar = lidar[::-1,:,:]\n",
    "        crs = df.crs\n",
    "        bounds = df.bounds\n",
    "        trans = df.transform\n",
    "        inProj =  Proj(crs)\n",
    "        outProj = Proj('epsg:4326')\n",
    "        y1,x1 = transform(inProj,outProj,np.array([bounds[0],bounds[2]]),np.array([bounds[1],bounds[3]]))\n",
    "        \n",
    "        lon_lidar = np.linspace(y1[0],y1[1],lidar.shape[1])\n",
    "        lat_lidar = np.linspace(x1[0],x1[1],lidar.shape[0])\n",
    "        \n",
    "        t = np.ones((lidar.shape))\n",
    "        iband = np.concatenate((lidar[:,:,:],t),axis=2)\n",
    "        iband = np.concatenate((iband,t),axis=2)\n",
    "        iband[:,:,1] = iband[:,:,0]\n",
    "\n",
    "        z = np.ones(3)\n",
    "        z[0] = 0\n",
    "        z[1] = 1\n",
    "        z[2] = 2\n",
    "\n",
    "        lidar_interp = interp_3d.Interp3D(iband,lat_lidar,lon_lidar,z)\n",
    "        "
   ]
  },
  {
   "cell_type": "code",
   "execution_count": 15,
   "id": "0795c451-0373-49eb-b6bd-290587b38579",
   "metadata": {},
   "outputs": [
    {
     "name": "stderr",
     "output_type": "stream",
     "text": [
      "100%|██████████| 3200/3200 [00:21<00:00, 148.06it/s]\n"
     ]
    }
   ],
   "source": [
    "lidar_new = np.zeros((len(lat),len(lon)))\n",
    "\n",
    "for i in tqdm.tqdm(range(len(lat))):\n",
    "    for j in range(len(lon)):\n",
    "        lidar_new[i,j] = lidar_interp((lat[i],lon[j],1))"
   ]
  },
  {
   "cell_type": "code",
   "execution_count": 18,
   "id": "1454ba05-be0a-43d0-be4c-9e010d64c40c",
   "metadata": {},
   "outputs": [
    {
     "name": "stderr",
     "output_type": "stream",
     "text": [
      "/tmp/ipykernel_2232/1732537199.py:22: DeprecationWarning: This function is deprecated. See: https://pyproj4.github.io/pyproj/stable/gotchas.html#upgrading-to-pyproj-2-from-pyproj-1\n",
      "  y1,x1 = transform(inProj,outProj,np.array([bounds[0],bounds[2]]),np.array([bounds[1],bounds[3]]))\n",
      "/tmp/ipykernel_2232/1732537199.py:42: DeprecationWarning: This function is deprecated. See: https://pyproj4.github.io/pyproj/stable/gotchas.html#upgrading-to-pyproj-2-from-pyproj-1\n",
      "  y1,x1 = transform(inProj,outProj,np.array([bounds[0],bounds[2]]),np.array([bounds[1],bounds[3]]))\n"
     ]
    }
   ],
   "source": [
    "idx = np.argsort(lon)\n",
    "lon=lon[idx]\n",
    "elev=elev[:,idx]\n",
    "idx = np.argsort(lat)\n",
    "lat=lat[idx]\n",
    "elev=elev[idx,:]\n",
    "\n",
    "fig=plt.figure(figsize=(12,12))\n",
    "gs = gridspec.GridSpec(2, 2,figure=fig)\n",
    "\n",
    "\n",
    "with rasterio.open(files[1],'r') as df:\n",
    "        band = df.read()\n",
    "        band = band.transpose((1,2,0))\n",
    "        crs = df.crs\n",
    "        bounds = df.bounds\n",
    "        #print(bounds)\n",
    "        #print(crs)\n",
    "        trans = df.transform\n",
    "        inProj =  Proj(crs)\n",
    "        outProj = Proj('epsg:4326')\n",
    "        y1,x1 = transform(inProj,outProj,np.array([bounds[0],bounds[2]]),np.array([bounds[1],bounds[3]]))\n",
    "\n",
    "ax = plt.subplot(gs[0, 0])\n",
    "ax.set_title('Tile (A)')\n",
    "ax.set_ylabel(r'Latitude [$^{o}$]')\n",
    "ax.set_xlabel(r'Longitude [$^{o}$]')\n",
    "sc=ax.imshow(band[::-1,:,0],aspect='auto',origin='lower',extent=[np.min(x1),np.max(x1),np.min(y1),np.max(y1)],vmin=-50,vmax=10)\n",
    "plt.colorbar(sc,label='Elevation Above Ground [m]')\n",
    "\n",
    "\n",
    "with rasterio.open(files[0],'r') as df:\n",
    "        band = df.read()\n",
    "        band = band.transpose((1,2,0))\n",
    "        crs = df.crs\n",
    "        bounds = df.bounds\n",
    "        #print(bounds)\n",
    "        #print(crs)\n",
    "        trans = df.transform\n",
    "        inProj =  Proj(crs)\n",
    "        outProj = Proj('epsg:4326')\n",
    "        y1,x1 = transform(inProj,outProj,np.array([bounds[0],bounds[2]]),np.array([bounds[1],bounds[3]]))\n",
    "ax = plt.subplot(gs[0, 1])\n",
    "ax.set_title('Tile (B)')\n",
    "ax.set_xlabel(r'Longitude [$^{o}$]')\n",
    "sc=ax.imshow(band[::-1,:,0],aspect='auto',origin='lower',extent=[np.min(x1),np.max(x1),np.min(y1),np.max(y1)],vmin=-50,vmax=10)\n",
    "plt.colorbar(sc,label='Elevation Above Ground [m]')\n",
    "\n",
    "\n",
    "\n",
    "#fig=plt.figure(figsize=(12,12))\n",
    "ax = plt.subplot(gs[1, 0])\n",
    "ax.set_title('Fusion of Tiles (A,B)')\n",
    "ax.set_ylabel(r'Latitude [$^{o}$]')\n",
    "ax.set_xlabel(r'Longitude [$^{o}$]')\n",
    "sc=ax.imshow(elev[::-1,:],aspect='auto',origin='lower',extent=[np.min(lon),np.max(lon),np.min(lat),np.max(lat)],vmin=-50,vmax=10)\n",
    "plt.colorbar(sc,label='Elevation Above Ground [m]')\n",
    "\n",
    "ax = plt.subplot(gs[1, 1])\n",
    "ax.set_title('3DEP 10m LiDAR')\n",
    "ax.set_ylabel(r'Latitude [$^{o}$]')\n",
    "ax.set_xlabel(r'Longitude [$^{o}$]')\n",
    "sc=ax.imshow(lidar_new,aspect='auto',origin='lower',extent=[np.min(lon),np.max(lon),np.min(lat),np.max(lat)],vmin=0,vmax=3)\n",
    "plt.colorbar(sc,label='Elevation Above Ground [m]')\n",
    "\n",
    "#plt.show()\n",
    "plt.savefig('test_fusion_with_lidar.jpeg',dpi=1000)\n",
    "plt.close()"
   ]
  },
  {
   "cell_type": "code",
   "execution_count": null,
   "id": "36bdc8c9-5e11-4704-a322-b37337d4151e",
   "metadata": {},
   "outputs": [],
   "source": []
  }
 ],
 "metadata": {
  "kernelspec": {
   "display_name": "Python 3 (ipykernel)",
   "language": "python",
   "name": "python3"
  },
  "language_info": {
   "codemirror_mode": {
    "name": "ipython",
    "version": 3
   },
   "file_extension": ".py",
   "mimetype": "text/x-python",
   "name": "python",
   "nbconvert_exporter": "python",
   "pygments_lexer": "ipython3",
   "version": "3.10.5"
  }
 },
 "nbformat": 4,
 "nbformat_minor": 5
}
