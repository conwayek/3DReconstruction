{
 "cells": [
  {
   "cell_type": "code",
   "execution_count": 1,
   "id": "d605b534-d815-432e-a1bb-b675d5dd6087",
   "metadata": {},
   "outputs": [
    {
     "name": "stderr",
     "output_type": "stream",
     "text": [
      "Using TensorFlow backend.\n"
     ]
    },
    {
     "name": "stdout",
     "output_type": "stream",
     "text": [
      "Num GPUs Available:  1\n"
     ]
    }
   ],
   "source": [
    "import os\n",
    "import tensorflow as tf\n",
    "os.environ['TF_CPP_MIN_LOG_LEVEL'] = '2'\n",
    "from tensorflow import keras\n",
    "import pickle\n",
    "import numpy as np\n",
    "from  keras.optimizers import Adam\n",
    "#from keras.optimizers import Adam\n",
    "print(\"Num GPUs Available: \", len(tf.config.list_physical_devices('GPU')))\n",
    "#tf.debugging.set_log_device_placement(True)\n",
    "import matplotlib.pyplot as plt\n",
    "from keras.layers import Dropout, Flatten, Dense, GlobalAveragePooling2D"
   ]
  },
  {
   "cell_type": "code",
   "execution_count": 35,
   "id": "e68973bd-e7be-4b42-a7a3-0554c117ad54",
   "metadata": {},
   "outputs": [],
   "source": [
    "# Get a ResNet50 model\n",
    "def resnet50_model(classes=3, *args, **kwargs):\n",
    "    # Load a model if we have saved one\n",
    "    cwd = os.getcwd()\n",
    "    if(os.path.isfile(os.path.join(cwd,'resnet50_weights_tf_dim_ordering_tf_kernels.h5')) == True):\n",
    "        return keras.models.load_model(os.path.join(cwd,'resnet50_weights_tf_dim_ordering_tf_kernels.h5'))\n",
    "    # Create an input layer \n",
    "    input = keras.layers.Input(shape=(None, None, 3))\n",
    "    # Create output layers\n",
    "    output = keras.layers.ZeroPadding2D(padding=3, name='padding_conv1')(input)\n",
    "    output = keras.layers.Conv2D(64, (7, 7), strides=(2, 2), use_bias=False, name='conv1')(output)\n",
    "    output = keras.layers.BatchNormalization(axis=3, epsilon=1e-5, name='bn_conv1')(output)\n",
    "    output = keras.layers.Activation('relu', name='conv1_relu')(output)\n",
    "    output = keras.layers.MaxPooling2D((3, 3), strides=(2, 2), padding='same', name='pool1')(output)\n",
    "    output = conv_block(output, 3, [64, 64, 256], stage=2, block='a', strides=(1, 1))\n",
    "    output = identity_block(output, 3, [64, 64, 256], stage=2, block='b')\n",
    "    output = identity_block(output, 3, [64, 64, 256], stage=2, block='c')\n",
    "    output = conv_block(output, 3, [128, 128, 512], stage=3, block='a')\n",
    "    output = identity_block(output, 3, [128, 128, 512], stage=3, block='b')\n",
    "    output = identity_block(output, 3, [128, 128, 512], stage=3, block='c')\n",
    "    output = identity_block(output, 3, [128, 128, 512], stage=3, block='d')\n",
    "    output = conv_block(output, 3, [256, 256, 1024], stage=4, block='a')\n",
    "    output = identity_block(output, 3, [256, 256, 1024], stage=4, block='b')\n",
    "    output = identity_block(output, 3, [256, 256, 1024], stage=4, block='c')\n",
    "    output = identity_block(output, 3, [256, 256, 1024], stage=4, block='d')\n",
    "    output = identity_block(output, 3, [256, 256, 1024], stage=4, block='e')\n",
    "    output = identity_block(output, 3, [256, 256, 1024], stage=4, block='f')\n",
    "    output = conv_block(output, 3, [512, 512, 2048], stage=5, block='a')\n",
    "    output = identity_block(output, 3, [512, 512, 2048], stage=5, block='b')\n",
    "    output = identity_block(output, 3, [512, 512, 2048], stage=5, block='c')\n",
    "    output = keras.layers.GlobalAveragePooling2D(name='pool5')(output)\n",
    "    output = keras.layers.Dense(classes, activation='softmax', name='fc1000')(output)\n",
    "    # Create a model from input layer and output layers\n",
    "    model = keras.models.Model(inputs=input, outputs=output, *args, **kwargs)\n",
    "    # Print model\n",
    "    #print()\n",
    "    #print(model.summary(), '\\n')\n",
    "    # Compile the model\n",
    "    model.compile(loss='categorical_crossentropy', optimizer=tf.keras.optimizers.Adam(lr=0.0001, clipnorm=0.001), metrics=['accuracy'])\n",
    "    # Return a model\n",
    "    return model\n"
   ]
  },
  {
   "cell_type": "code",
   "execution_count": 13,
   "id": "01d5d5ff-ebb2-49d0-984f-d62ab1aae681",
   "metadata": {},
   "outputs": [],
   "source": [
    "# Create an identity block\n",
    "def identity_block(input, kernel_size, filters, stage, block):\n",
    "    \n",
    "    # Variables\n",
    "    filters1, filters2, filters3 = filters\n",
    "    conv_name_base = 'res' + str(stage) + block + '_branch'\n",
    "    bn_name_base = 'bn' + str(stage) + block + '_branch'\n",
    "    # Create layers\n",
    "    output = keras.layers.Conv2D(filters1, (1, 1), kernel_initializer='he_normal', name=conv_name_base + '2a')(input)\n",
    "    output = keras.layers.BatchNormalization(axis=3, name=bn_name_base + '2a')(output)\n",
    "    output = keras.layers.Activation('relu')(output)\n",
    "    output = keras.layers.Conv2D(filters2, kernel_size, padding='same', kernel_initializer='he_normal', name=conv_name_base + '2b')(output)\n",
    "    output = keras.layers.BatchNormalization(axis=3, name=bn_name_base + '2b')(output)\n",
    "    output = keras.layers.Activation('relu')(output)\n",
    "    output = keras.layers.Conv2D(filters3, (1, 1), kernel_initializer='he_normal', name=conv_name_base + '2c')(output)\n",
    "    output = keras.layers.BatchNormalization(axis=3, name=bn_name_base + '2c')(output)\n",
    "    output = keras.layers.add([output, input])\n",
    "    output = keras.layers.Activation('relu')(output)\n",
    "    # Return a block\n",
    "    return output"
   ]
  },
  {
   "cell_type": "code",
   "execution_count": 80,
   "id": "a6f4d635-8847-4e49-9d99-0a6c4443b175",
   "metadata": {},
   "outputs": [],
   "source": [
    "# Create a convolution block\n",
    "def conv_block(input, kernel_size, filters, stage, block, strides=(2, 2)):\n",
    "    # Variables\n",
    "    filters1, filters2, filters3 = filters\n",
    "    conv_name_base = 'res' + str(stage) + block + '_branch'\n",
    "    bn_name_base = 'bn' + str(stage) + block + '_branch'\n",
    "    # Create block layers\n",
    "    output = keras.layers.Conv2D(filters1, (1, 1), strides=strides, kernel_initializer='he_normal', name=conv_name_base + '2a')(input)\n",
    "    output = keras.layers.BatchNormalization(axis=3, name=bn_name_base + '2a')(output)\n",
    "    output = keras.layers.Activation('relu')(output)\n",
    "    output = keras.layers.Conv2D(filters2, kernel_size, padding='same', kernel_initializer='he_normal', name=conv_name_base + '2b')(output)\n",
    "    output = keras.layers.BatchNormalization(axis=3, name=bn_name_base + '2b')(output)\n",
    "    output = keras.layers.Activation('relu')(output)\n",
    "    output = keras.layers.Conv2D(filters3, (1, 1), kernel_initializer='he_normal', name=conv_name_base + '2c')(output)\n",
    "    output = keras.layers.BatchNormalization(axis=3, name=bn_name_base + '2c')(output)\n",
    "    shortcut = keras.layers.Conv2D(filters3, (1, 1), strides=strides, kernel_initializer='he_normal', name=conv_name_base + '1')(input)\n",
    "    shortcut = keras.layers.BatchNormalization(axis=3, name=bn_name_base + '1')(shortcut)\n",
    "    output = keras.layers.add([output, shortcut])\n",
    "    output = keras.layers.Activation('relu')(output)\n",
    "    # Return a block\n",
    "    return output"
   ]
  },
  {
   "cell_type": "code",
   "execution_count": 2,
   "id": "944cc925-65bb-4f5a-b540-d8c16762092f",
   "metadata": {},
   "outputs": [
    {
     "name": "stdout",
     "output_type": "stream",
     "text": [
      "Found 11520 images belonging to 3 classes.\n",
      "Found 2880 images belonging to 3 classes.\n",
      "<keras_preprocessing.image.directory_iterator.DirectoryIterator object at 0x2ac4f1d26e50>\n",
      "<keras_preprocessing.image.directory_iterator.DirectoryIterator object at 0x2ac5d447abd0>\n"
     ]
    }
   ],
   "source": [
    "# Create a data generator for training\n",
    "train_datagen = keras.preprocessing.image.ImageDataGenerator(\n",
    "    rescale=1./255, \n",
    "    shear_range=0.2,\n",
    "    rotation_range=10,\n",
    "    horizontal_flip=True,\n",
    "    vertical_flip=True,\n",
    "    validation_split=0.2)\n",
    "\n",
    "# Create a train generator\n",
    "train_generator = train_datagen.flow_from_directory( \n",
    "    '/scratch/e.conway/3DReconstruction/CNN_Buildings/Datasets/Dataset 2/', \n",
    "    target_size=(77, 77), \n",
    "    batch_size=32,\n",
    "    color_mode='rgb',\n",
    "    shuffle=True,\n",
    "    class_mode='categorical',\n",
    "    subset='training')\n",
    "\n",
    "# Create a train generator\n",
    "validation_generator = train_datagen.flow_from_directory( \n",
    "    '/scratch/e.conway/3DReconstruction/CNN_Buildings/Datasets/Dataset 2/', \n",
    "    target_size=(77, 77), \n",
    "    batch_size=32,\n",
    "    color_mode='rgb',\n",
    "    shuffle=True,\n",
    "    class_mode='categorical',\n",
    "    subset='validation')\n",
    "\n",
    "print(train_generator)\n",
    "print(validation_generator)"
   ]
  },
  {
   "cell_type": "code",
   "execution_count": 36,
   "id": "2199d13f-7002-43ae-ac45-caad7cd01cab",
   "metadata": {},
   "outputs": [],
   "source": [
    "# Train a model\n",
    "def train(start_index,name):\n",
    "    # Variables, 25 epochs so far\n",
    "    epochs = 10\n",
    "    batch_size = 32\n",
    "    train_samples = 3 * 5000 # 3 categories with 5000 images in each category\n",
    "    validation_samples = 3 * 1000 # 10 categories with 1000 images in each category\n",
    "    img_width, img_height = 259,259#32, 32\n",
    "    # Get the model (10 categories)\n",
    "    if(start_index == 'scratch'):\n",
    "        model = resnet50_model(3)\n",
    "    \n",
    "    ########## RUN MODEL  ##########\n",
    "    \n",
    "    if(start_index == 'scratch'):\n",
    "        # Start training, fit the model\n",
    "        model.fit( \n",
    "            train_generator, \n",
    "            steps_per_epoch=train_generator.samples // batch_size, \n",
    "            validation_data=validation_generator, \n",
    "            validation_steps=validation_generator.samples // batch_size,\n",
    "            epochs=epochs)\n",
    "    elif(start_index == 'reconstructed'):\n",
    "        # loading model\n",
    "        model = keras.models.load_model(name)\n",
    "        model.fit( \n",
    "            train_generator, \n",
    "            steps_per_epoch=train_generator.samples // batch_size, \n",
    "            validation_data=validation_generator, \n",
    "            validation_steps=validation_generator.samples // batch_size,\n",
    "            epochs=epochs)\n",
    "    # Save model to disk\n",
    "    #path = os.path.join(os.getcwd(),'resnet_50.h5')\n",
    "    model.save(name)\n",
    "    print('Saved model to disk!')\n",
    "    # Get labels\n",
    "    labels = train_generator.class_indices\n",
    "    # Invert labels\n",
    "    classes = {}\n",
    "    for key, value in labels.items():\n",
    "        classes[value] = key.capitalize()\n",
    "    # Save classes to file\n",
    "    with open(os.path.join(os.getcwd(),'classes.pkl'), 'wb') as file:\n",
    "        pickle.dump(classes, file)\n",
    "    print('Saved classes to disk!')"
   ]
  },
  {
   "cell_type": "code",
   "execution_count": 17,
   "id": "c4051783-41cf-4d31-9df2-20cdbfacde51",
   "metadata": {},
   "outputs": [],
   "source": [
    "# The main entry point for this module\n",
    "def main(start_index,name):\n",
    "    # Train a model\n",
    "    train(start_index,name)"
   ]
  },
  {
   "cell_type": "code",
   "execution_count": 19,
   "id": "e7762986-9562-4f4a-8426-dec27f32162c",
   "metadata": {
    "collapsed": true,
    "jupyter": {
     "outputs_hidden": true
    },
    "tags": []
   },
   "outputs": [
    {
     "name": "stdout",
     "output_type": "stream",
     "text": [
      "Epoch 1/10\n",
      "360/360 [==============================] - 284s 789ms/step - loss: 0.2479 - accuracy: 0.9456 - val_loss: 0.1120 - val_accuracy: 0.9837\n",
      "Epoch 2/10\n",
      "360/360 [==============================] - 98s 271ms/step - loss: 0.0713 - accuracy: 0.9900 - val_loss: 25.7825 - val_accuracy: 0.6667\n",
      "Epoch 3/10\n",
      "360/360 [==============================] - 97s 271ms/step - loss: 0.0198 - accuracy: 0.9967 - val_loss: 0.0118 - val_accuracy: 0.9972\n",
      "Epoch 4/10\n",
      "360/360 [==============================] - 97s 271ms/step - loss: 0.0236 - accuracy: 0.9970 - val_loss: 0.0038 - val_accuracy: 0.9983\n",
      "Epoch 5/10\n",
      "360/360 [==============================] - 97s 270ms/step - loss: 0.0231 - accuracy: 0.9981 - val_loss: 1.3707 - val_accuracy: 0.9688\n",
      "Epoch 6/10\n",
      "360/360 [==============================] - 97s 270ms/step - loss: 0.0110 - accuracy: 0.9984 - val_loss: 0.1936 - val_accuracy: 0.9878\n",
      "Epoch 7/10\n",
      "360/360 [==============================] - 97s 271ms/step - loss: 0.0115 - accuracy: 0.9982 - val_loss: 2.2551 - val_accuracy: 0.8017\n",
      "Epoch 8/10\n",
      "360/360 [==============================] - 97s 270ms/step - loss: 0.0116 - accuracy: 0.9984 - val_loss: 1.8051 - val_accuracy: 0.7330\n",
      "Epoch 9/10\n",
      "360/360 [==============================] - 97s 271ms/step - loss: 0.0164 - accuracy: 0.9986 - val_loss: 0.0109 - val_accuracy: 0.9976\n",
      "Epoch 10/10\n",
      "360/360 [==============================] - 98s 272ms/step - loss: 0.0095 - accuracy: 0.9988 - val_loss: 0.7578 - val_accuracy: 0.9566\n",
      "WARNING:tensorflow:From /home/e.conway/.conda/envs/MyEnv/lib/python3.7/site-packages/tensorflow/python/ops/resource_variable_ops.py:1817: calling BaseResourceVariable.__init__ (from tensorflow.python.ops.resource_variable_ops) with constraint is deprecated and will be removed in a future version.\n",
      "Instructions for updating:\n",
      "If using Keras pass *_constraint arguments to layers.\n",
      "INFO:tensorflow:Assets written to: my_model/assets\n",
      "Saved model to disk!\n",
      "Saved classes to disk!\n"
     ]
    }
   ],
   "source": [
    "# Tell python to run main method\n",
    "main('scratch','my_model')"
   ]
  },
  {
   "cell_type": "code",
   "execution_count": 37,
   "id": "535c1133-65d9-4089-9901-8c27c85b6d99",
   "metadata": {
    "collapsed": true,
    "jupyter": {
     "outputs_hidden": true
    },
    "tags": []
   },
   "outputs": [
    {
     "name": "stdout",
     "output_type": "stream",
     "text": [
      "Epoch 1/10\n",
      "360/360 [==============================] - 99s 274ms/step - loss: 0.0078 - accuracy: 0.9990 - val_loss: 2.0682e-06 - val_accuracy: 1.0000\n",
      "Epoch 2/10\n",
      "360/360 [==============================] - 98s 271ms/step - loss: 0.0090 - accuracy: 0.9987 - val_loss: 0.1563 - val_accuracy: 0.9750\n",
      "Epoch 3/10\n",
      "360/360 [==============================] - 98s 272ms/step - loss: 0.0160 - accuracy: 0.9981 - val_loss: 1.7285e-04 - val_accuracy: 1.0000\n",
      "Epoch 4/10\n",
      "360/360 [==============================] - 98s 272ms/step - loss: 0.0154 - accuracy: 0.9984 - val_loss: 7.0321e-05 - val_accuracy: 1.0000\n",
      "Epoch 5/10\n",
      "360/360 [==============================] - 98s 273ms/step - loss: 0.0097 - accuracy: 0.9990 - val_loss: 1.1793e-07 - val_accuracy: 1.0000\n",
      "Epoch 6/10\n",
      "360/360 [==============================] - 98s 273ms/step - loss: 0.0069 - accuracy: 0.9996 - val_loss: 4.6773e-09 - val_accuracy: 1.0000\n",
      "Epoch 7/10\n",
      "360/360 [==============================] - 98s 273ms/step - loss: 0.0077 - accuracy: 0.9995 - val_loss: 5.2665 - val_accuracy: 0.6236\n",
      "Epoch 8/10\n",
      "360/360 [==============================] - 98s 273ms/step - loss: 0.0098 - accuracy: 0.9986 - val_loss: 0.0267 - val_accuracy: 0.9937\n",
      "Epoch 9/10\n",
      "360/360 [==============================] - 98s 272ms/step - loss: 0.0084 - accuracy: 0.9988 - val_loss: 1.9762e-06 - val_accuracy: 1.0000\n",
      "Epoch 10/10\n",
      "360/360 [==============================] - 98s 273ms/step - loss: 0.0025 - accuracy: 0.9994 - val_loss: 6.1630e-05 - val_accuracy: 1.0000\n",
      "INFO:tensorflow:Assets written to: my_model/assets\n",
      "Saved model to disk!\n",
      "Saved classes to disk!\n"
     ]
    }
   ],
   "source": [
    "#Run reconstruction\n",
    "start_index = 'reconstructed'\n",
    "name = 'my_model'\n",
    "main(start_index,name)"
   ]
  },
  {
   "cell_type": "code",
   "execution_count": 38,
   "id": "1929b2cb-a787-4d6e-85d0-2cf511b42e4c",
   "metadata": {},
   "outputs": [],
   "source": [
    "reconstructed_model = keras.models.load_model(name, compile = True)"
   ]
  },
  {
   "cell_type": "code",
   "execution_count": 48,
   "id": "7c2db332-8699-47d5-b9cd-7d6050aa81d1",
   "metadata": {},
   "outputs": [],
   "source": [
    "# Get labels\n",
    "labels = train_generator.class_indices\n",
    "# Invert labels\n",
    "classes = {}\n",
    "for key, value in labels.items():\n",
    "    classes[value] = key.capitalize()\n",
    "    "
   ]
  },
  {
   "cell_type": "code",
   "execution_count": 49,
   "id": "a721c8a8-af10-4d3e-98f3-d5fea919a538",
   "metadata": {},
   "outputs": [
    {
     "data": {
      "image/png": "[encoded data removed]",
      "text/plain": [
       "<Figure size 432x288 with 1 Axes>"
      ]
     },
     "metadata": {
      "needs_background": "light"
     },
     "output_type": "display_data"
    },
    {
     "name": "stdout",
     "output_type": "stream",
     "text": [
      "[2 0 0 2 0 0 1 1 0 2 0 2 0 0 0 0 0 0 0 2 2 2 1 0 2 1 0 1 1 1 2 2]\n"
     ]
    }
   ],
   "source": [
    "# A few random samples\n",
    "use_samples = [300]\n",
    "# Generate plots for samples\n",
    "for sample in use_samples:\n",
    "    # Generate a plot\n",
    "    reshaped_image = train_generator[300]\n",
    "    im = np.array(reshaped_image[0])#.reshape((-1,77,77,3)) \n",
    "    plt.imshow(im[8,:,:,:])\n",
    "    plt.show()\n",
    "predictions = reconstructed_model.predict(im)\n",
    "#print(predictions)\n",
    "classes_predict = np.argmax(predictions, axis = 1)\n",
    "#print(classes[classes_predict[0]])\n",
    "print(classes_predict)"
   ]
  },
  {
   "cell_type": "code",
   "execution_count": 3,
   "id": "621bb22f-fa32-4b72-a7c2-121219b53125",
   "metadata": {},
   "outputs": [],
   "source": [
    "# Now we need to do the next layers: recognition of rooftops\n",
    "# Freeze the previous layer\n",
    "base_model = keras.models.load_model('my_model')\n",
    "base_model.trainable = False"
   ]
  },
  {
   "cell_type": "code",
   "execution_count": 123,
   "id": "cc6fb8f7-9320-4be9-8ef6-1662937c3c02",
   "metadata": {},
   "outputs": [],
   "source": [
    "# Get a ResNet50 model\n",
    "def resnet50_model_top_layer(classes=3, *args, **kwargs):\n",
    "    # Create an input layer \n",
    "    input = keras.layers.Input(shape=(None, None, 3))\n",
    "\n",
    "    x = base_model(input, training=False)\n",
    "    \n",
    "    output = keras.layers.Dense((1000))(x)\n",
    "\n",
    "    output = keras.layers.Dense(1000,activation='relu')(x)\n",
    "    \n",
    "    output = keras.layers.Activation('relu',  name='conv1_relu_1')(output)\n",
    "    print(output.shape)\n",
    "    #output = tf.keras.layers.Reshape([-1,9000])(output)\n",
    "    output = keras.layers.Dense(10000,activation='relu')(output)\n",
    "    # Create output layers\n",
    "    #print(output.shape)\n",
    "    output = keras.layers.BatchNormalization(axis=1, epsilon=1e-5, name='bn_conv1')(output)\n",
    "    output = keras.layers.Activation('relu', name='conv1_relu')(output)\n",
    "    \n",
    "    output = tf.reshape(output, [1, output.shape[1], 1])\n",
    "    print(output.shape)\n",
    "    output = tf.keras.layers.AveragePooling1D(pool_size=2,strides=2, padding='valid',name='pooling')(output)\n",
    "    print(output.shape)\n",
    "    \n",
    "    output = tf.keras.layers.Conv1D(2, 5, activation='relu', input_shape=output.shape,name='conv1d')(output)\n",
    "    print(output.shape)\n",
    "    #output = keras.layers.Dense(300000,activation='relu')(x)\n",
    "    output = tf.keras.layers.Reshape([-1,output.shape[1],output.shape[2]])(output)\n",
    "    print(output.shape)\n",
    "    output = keras.layers.MaxPooling2D((3, 3), strides=(2, 2), padding='same', name='pool1')(output)\n",
    "    print(output.shape)\n",
    "    output = tf.keras.layers.Flatten()(output)\n",
    "    print(output.shape)\n",
    "    output = tf.keras.layers.Reshape([-1,output.shape[1]])(output)\n",
    "    print(output.shape)\n",
    "    #output = keras.layers.GlobalAveragePooling2D(name='pool5')(output)\n",
    "    output = keras.layers.Dense(classes, activation='softmax', name='fc1000')(output)\n",
    "    print('output',output.shape)\n",
    "    # Create a model from input layer and output layers\n",
    "    model = keras.models.Model(inputs=input, outputs=output, *args, **kwargs)\n",
    "    # Print model\n",
    "    #print()\n",
    "    print(model.summary(), '\\n')\n",
    "    # Compile the model\n",
    "    model.compile(loss='categorical_crossentropy', optimizer=tf.keras.optimizers.Adam(lr=0.01, clipnorm=0.001), metrics=['accuracy'])\n",
    "    # Return a model\n",
    "    return model"
   ]
  },
  {
   "cell_type": "code",
   "execution_count": 124,
   "id": "6f90208d-e974-455e-a3c1-b4ad5c529fcc",
   "metadata": {},
   "outputs": [
    {
     "name": "stdout",
     "output_type": "stream",
     "text": [
      "(None, 1000)\n",
      "(1, 10000, 1)\n",
      "(1, 5000, 1)\n",
      "(1, 4996, 2)\n",
      "(1, 1, 4996, 2)\n",
      "(1, 1, 2498, 2)\n",
      "(1, 4996)\n",
      "(1, 1, 4996)\n",
      "output (1, 1, 3)\n",
      "Model: \"model_27\"\n",
      "_________________________________________________________________\n",
      "Layer (type)                 Output Shape              Param #   \n",
      "=================================================================\n",
      "input_54 (InputLayer)        [(None, None, None, 3)]   0         \n",
      "_________________________________________________________________\n",
      "model_3 (Model)              (None, 3)                 23593795  \n",
      "_________________________________________________________________\n",
      "dense_157 (Dense)            (None, 1000)              4000      \n",
      "_________________________________________________________________\n",
      "conv1_relu_1 (Activation)    (None, 1000)              0         \n",
      "_________________________________________________________________\n",
      "dense_158 (Dense)            (None, 10000)             10010000  \n",
      "_________________________________________________________________\n",
      "bn_conv1 (BatchNormalization (None, 10000)             40000     \n",
      "_________________________________________________________________\n",
      "conv1_relu (Activation)      (None, 10000)             0         \n",
      "_________________________________________________________________\n",
      "tf_op_layer_Reshape_37 (Tens [(1, 10000, 1)]           0         \n",
      "_________________________________________________________________\n",
      "pooling (AveragePooling1D)   (1, 5000, 1)              0         \n",
      "_________________________________________________________________\n",
      "conv1d (Conv1D)              (1, 4996, 2)              12        \n",
      "_________________________________________________________________\n",
      "reshape_16 (Reshape)         (1, 1, 4996, 2)           0         \n",
      "_________________________________________________________________\n",
      "pool1 (MaxPooling2D)         (1, 1, 2498, 2)           0         \n",
      "_________________________________________________________________\n",
      "flatten_3 (Flatten)          (1, 4996)                 0         \n",
      "_________________________________________________________________\n",
      "reshape_17 (Reshape)         (1, 1, 4996)              0         \n",
      "_________________________________________________________________\n",
      "fc1000 (Dense)               (1, 1, 3)                 14991     \n",
      "=================================================================\n",
      "Total params: 33,662,798\n",
      "Trainable params: 10,049,003\n",
      "Non-trainable params: 23,613,795\n",
      "_________________________________________________________________\n",
      "None \n",
      "\n"
     ]
    }
   ],
   "source": [
    "model = resnet50_model_top_layer(3)"
   ]
  },
  {
   "cell_type": "code",
   "execution_count": 118,
   "id": "095a1a65-a89d-4bca-810b-0d84b17d3b4f",
   "metadata": {},
   "outputs": [
    {
     "name": "stdout",
     "output_type": "stream",
     "text": [
      "Epoch 1/10\n"
     ]
    },
    {
     "ename": "InvalidArgumentError",
     "evalue": " Can not squeeze dim[0], expected a dimension of 1, got 32\n\t [[node model_25/bn_conv1/moments/Squeeze (defined at tmp/ipykernel_6177/510903563.py:9) ]] [Op:__inference_train_function_274265]\n\nFunction call stack:\ntrain_function\n",
     "output_type": "error",
     "traceback": [
      "\u001b[0;31m---------------------------------------------------------------------------\u001b[0m",
      "\u001b[0;31mInvalidArgumentError\u001b[0m                      Traceback (most recent call last)",
      "\u001b[0;32m/tmp/ipykernel_6177/510903563.py\u001b[0m in \u001b[0;36m<module>\u001b[0;34m\u001b[0m\n\u001b[1;32m      7\u001b[0m             \u001b[0mvalidation_data\u001b[0m\u001b[0;34m=\u001b[0m\u001b[0mvalidation_generator\u001b[0m\u001b[0;34m,\u001b[0m\u001b[0;34m\u001b[0m\u001b[0;34m\u001b[0m\u001b[0m\n\u001b[1;32m      8\u001b[0m             \u001b[0mvalidation_steps\u001b[0m\u001b[0;34m=\u001b[0m\u001b[0mvalidation_generator\u001b[0m\u001b[0;34m.\u001b[0m\u001b[0msamples\u001b[0m \u001b[0;34m//\u001b[0m \u001b[0mbatch_size\u001b[0m\u001b[0;34m,\u001b[0m\u001b[0;34m\u001b[0m\u001b[0;34m\u001b[0m\u001b[0m\n\u001b[0;32m----> 9\u001b[0;31m             epochs=epochs)\n\u001b[0m\u001b[1;32m     10\u001b[0m \u001b[0;34m\u001b[0m\u001b[0m\n\u001b[1;32m     11\u001b[0m \u001b[0;31m# Save model to disk\u001b[0m\u001b[0;34m\u001b[0m\u001b[0;34m\u001b[0m\u001b[0;34m\u001b[0m\u001b[0m\n",
      "\u001b[0;32m~/.conda/envs/MyEnv/lib/python3.7/site-packages/tensorflow/python/keras/engine/training.py\u001b[0m in \u001b[0;36m_method_wrapper\u001b[0;34m(self, *args, **kwargs)\u001b[0m\n\u001b[1;32m     64\u001b[0m   \u001b[0;32mdef\u001b[0m \u001b[0m_method_wrapper\u001b[0m\u001b[0;34m(\u001b[0m\u001b[0mself\u001b[0m\u001b[0;34m,\u001b[0m \u001b[0;34m*\u001b[0m\u001b[0margs\u001b[0m\u001b[0;34m,\u001b[0m \u001b[0;34m**\u001b[0m\u001b[0mkwargs\u001b[0m\u001b[0;34m)\u001b[0m\u001b[0;34m:\u001b[0m\u001b[0;34m\u001b[0m\u001b[0;34m\u001b[0m\u001b[0m\n\u001b[1;32m     65\u001b[0m     \u001b[0;32mif\u001b[0m \u001b[0;32mnot\u001b[0m \u001b[0mself\u001b[0m\u001b[0;34m.\u001b[0m\u001b[0m_in_multi_worker_mode\u001b[0m\u001b[0;34m(\u001b[0m\u001b[0;34m)\u001b[0m\u001b[0;34m:\u001b[0m  \u001b[0;31m# pylint: disable=protected-access\u001b[0m\u001b[0;34m\u001b[0m\u001b[0;34m\u001b[0m\u001b[0m\n\u001b[0;32m---> 66\u001b[0;31m       \u001b[0;32mreturn\u001b[0m \u001b[0mmethod\u001b[0m\u001b[0;34m(\u001b[0m\u001b[0mself\u001b[0m\u001b[0;34m,\u001b[0m \u001b[0;34m*\u001b[0m\u001b[0margs\u001b[0m\u001b[0;34m,\u001b[0m \u001b[0;34m**\u001b[0m\u001b[0mkwargs\u001b[0m\u001b[0;34m)\u001b[0m\u001b[0;34m\u001b[0m\u001b[0;34m\u001b[0m\u001b[0m\n\u001b[0m\u001b[1;32m     67\u001b[0m \u001b[0;34m\u001b[0m\u001b[0m\n\u001b[1;32m     68\u001b[0m     \u001b[0;31m# Running inside `run_distribute_coordinator` already.\u001b[0m\u001b[0;34m\u001b[0m\u001b[0;34m\u001b[0m\u001b[0;34m\u001b[0m\u001b[0m\n",
      "\u001b[0;32m~/.conda/envs/MyEnv/lib/python3.7/site-packages/tensorflow/python/keras/engine/training.py\u001b[0m in \u001b[0;36mfit\u001b[0;34m(self, x, y, batch_size, epochs, verbose, callbacks, validation_split, validation_data, shuffle, class_weight, sample_weight, initial_epoch, steps_per_epoch, validation_steps, validation_batch_size, validation_freq, max_queue_size, workers, use_multiprocessing)\u001b[0m\n\u001b[1;32m    846\u001b[0m                 batch_size=batch_size):\n\u001b[1;32m    847\u001b[0m               \u001b[0mcallbacks\u001b[0m\u001b[0;34m.\u001b[0m\u001b[0mon_train_batch_begin\u001b[0m\u001b[0;34m(\u001b[0m\u001b[0mstep\u001b[0m\u001b[0;34m)\u001b[0m\u001b[0;34m\u001b[0m\u001b[0;34m\u001b[0m\u001b[0m\n\u001b[0;32m--> 848\u001b[0;31m               \u001b[0mtmp_logs\u001b[0m \u001b[0;34m=\u001b[0m \u001b[0mtrain_function\u001b[0m\u001b[0;34m(\u001b[0m\u001b[0miterator\u001b[0m\u001b[0;34m)\u001b[0m\u001b[0;34m\u001b[0m\u001b[0;34m\u001b[0m\u001b[0m\n\u001b[0m\u001b[1;32m    849\u001b[0m               \u001b[0;31m# Catch OutOfRangeError for Datasets of unknown size.\u001b[0m\u001b[0;34m\u001b[0m\u001b[0;34m\u001b[0m\u001b[0;34m\u001b[0m\u001b[0m\n\u001b[1;32m    850\u001b[0m               \u001b[0;31m# This blocks until the batch has finished executing.\u001b[0m\u001b[0;34m\u001b[0m\u001b[0;34m\u001b[0m\u001b[0;34m\u001b[0m\u001b[0m\n",
      "\u001b[0;32m~/.conda/envs/MyEnv/lib/python3.7/site-packages/tensorflow/python/eager/def_function.py\u001b[0m in \u001b[0;36m__call__\u001b[0;34m(self, *args, **kwds)\u001b[0m\n\u001b[1;32m    578\u001b[0m         \u001b[0mxla_context\u001b[0m\u001b[0;34m.\u001b[0m\u001b[0mExit\u001b[0m\u001b[0;34m(\u001b[0m\u001b[0;34m)\u001b[0m\u001b[0;34m\u001b[0m\u001b[0;34m\u001b[0m\u001b[0m\n\u001b[1;32m    579\u001b[0m     \u001b[0;32melse\u001b[0m\u001b[0;34m:\u001b[0m\u001b[0;34m\u001b[0m\u001b[0;34m\u001b[0m\u001b[0m\n\u001b[0;32m--> 580\u001b[0;31m       \u001b[0mresult\u001b[0m \u001b[0;34m=\u001b[0m \u001b[0mself\u001b[0m\u001b[0;34m.\u001b[0m\u001b[0m_call\u001b[0m\u001b[0;34m(\u001b[0m\u001b[0;34m*\u001b[0m\u001b[0margs\u001b[0m\u001b[0;34m,\u001b[0m \u001b[0;34m**\u001b[0m\u001b[0mkwds\u001b[0m\u001b[0;34m)\u001b[0m\u001b[0;34m\u001b[0m\u001b[0;34m\u001b[0m\u001b[0m\n\u001b[0m\u001b[1;32m    581\u001b[0m \u001b[0;34m\u001b[0m\u001b[0m\n\u001b[1;32m    582\u001b[0m     \u001b[0;32mif\u001b[0m \u001b[0mtracing_count\u001b[0m \u001b[0;34m==\u001b[0m \u001b[0mself\u001b[0m\u001b[0;34m.\u001b[0m\u001b[0m_get_tracing_count\u001b[0m\u001b[0;34m(\u001b[0m\u001b[0;34m)\u001b[0m\u001b[0;34m:\u001b[0m\u001b[0;34m\u001b[0m\u001b[0;34m\u001b[0m\u001b[0m\n",
      "\u001b[0;32m~/.conda/envs/MyEnv/lib/python3.7/site-packages/tensorflow/python/eager/def_function.py\u001b[0m in \u001b[0;36m_call\u001b[0;34m(self, *args, **kwds)\u001b[0m\n\u001b[1;32m    642\u001b[0m         \u001b[0;31m# Lifting succeeded, so variables are initialized and we can run the\u001b[0m\u001b[0;34m\u001b[0m\u001b[0;34m\u001b[0m\u001b[0;34m\u001b[0m\u001b[0m\n\u001b[1;32m    643\u001b[0m         \u001b[0;31m# stateless function.\u001b[0m\u001b[0;34m\u001b[0m\u001b[0;34m\u001b[0m\u001b[0;34m\u001b[0m\u001b[0m\n\u001b[0;32m--> 644\u001b[0;31m         \u001b[0;32mreturn\u001b[0m \u001b[0mself\u001b[0m\u001b[0;34m.\u001b[0m\u001b[0m_stateless_fn\u001b[0m\u001b[0;34m(\u001b[0m\u001b[0;34m*\u001b[0m\u001b[0margs\u001b[0m\u001b[0;34m,\u001b[0m \u001b[0;34m**\u001b[0m\u001b[0mkwds\u001b[0m\u001b[0;34m)\u001b[0m\u001b[0;34m\u001b[0m\u001b[0;34m\u001b[0m\u001b[0m\n\u001b[0m\u001b[1;32m    645\u001b[0m     \u001b[0;32melse\u001b[0m\u001b[0;34m:\u001b[0m\u001b[0;34m\u001b[0m\u001b[0;34m\u001b[0m\u001b[0m\n\u001b[1;32m    646\u001b[0m       \u001b[0mcanon_args\u001b[0m\u001b[0;34m,\u001b[0m \u001b[0mcanon_kwds\u001b[0m \u001b[0;34m=\u001b[0m\u001b[0;31m \u001b[0m\u001b[0;31m\\\u001b[0m\u001b[0;34m\u001b[0m\u001b[0;34m\u001b[0m\u001b[0m\n",
      "\u001b[0;32m~/.conda/envs/MyEnv/lib/python3.7/site-packages/tensorflow/python/eager/function.py\u001b[0m in \u001b[0;36m__call__\u001b[0;34m(self, *args, **kwargs)\u001b[0m\n\u001b[1;32m   2418\u001b[0m     \u001b[0;32mwith\u001b[0m \u001b[0mself\u001b[0m\u001b[0;34m.\u001b[0m\u001b[0m_lock\u001b[0m\u001b[0;34m:\u001b[0m\u001b[0;34m\u001b[0m\u001b[0;34m\u001b[0m\u001b[0m\n\u001b[1;32m   2419\u001b[0m       \u001b[0mgraph_function\u001b[0m\u001b[0;34m,\u001b[0m \u001b[0margs\u001b[0m\u001b[0;34m,\u001b[0m \u001b[0mkwargs\u001b[0m \u001b[0;34m=\u001b[0m \u001b[0mself\u001b[0m\u001b[0;34m.\u001b[0m\u001b[0m_maybe_define_function\u001b[0m\u001b[0;34m(\u001b[0m\u001b[0margs\u001b[0m\u001b[0;34m,\u001b[0m \u001b[0mkwargs\u001b[0m\u001b[0;34m)\u001b[0m\u001b[0;34m\u001b[0m\u001b[0;34m\u001b[0m\u001b[0m\n\u001b[0;32m-> 2420\u001b[0;31m     \u001b[0;32mreturn\u001b[0m \u001b[0mgraph_function\u001b[0m\u001b[0;34m.\u001b[0m\u001b[0m_filtered_call\u001b[0m\u001b[0;34m(\u001b[0m\u001b[0margs\u001b[0m\u001b[0;34m,\u001b[0m \u001b[0mkwargs\u001b[0m\u001b[0;34m)\u001b[0m  \u001b[0;31m# pylint: disable=protected-access\u001b[0m\u001b[0;34m\u001b[0m\u001b[0;34m\u001b[0m\u001b[0m\n\u001b[0m\u001b[1;32m   2421\u001b[0m \u001b[0;34m\u001b[0m\u001b[0m\n\u001b[1;32m   2422\u001b[0m   \u001b[0;34m@\u001b[0m\u001b[0mproperty\u001b[0m\u001b[0;34m\u001b[0m\u001b[0;34m\u001b[0m\u001b[0m\n",
      "\u001b[0;32m~/.conda/envs/MyEnv/lib/python3.7/site-packages/tensorflow/python/eager/function.py\u001b[0m in \u001b[0;36m_filtered_call\u001b[0;34m(self, args, kwargs)\u001b[0m\n\u001b[1;32m   1663\u001b[0m          if isinstance(t, (ops.Tensor,\n\u001b[1;32m   1664\u001b[0m                            resource_variable_ops.BaseResourceVariable))),\n\u001b[0;32m-> 1665\u001b[0;31m         self.captured_inputs)\n\u001b[0m\u001b[1;32m   1666\u001b[0m \u001b[0;34m\u001b[0m\u001b[0m\n\u001b[1;32m   1667\u001b[0m   \u001b[0;32mdef\u001b[0m \u001b[0m_call_flat\u001b[0m\u001b[0;34m(\u001b[0m\u001b[0mself\u001b[0m\u001b[0;34m,\u001b[0m \u001b[0margs\u001b[0m\u001b[0;34m,\u001b[0m \u001b[0mcaptured_inputs\u001b[0m\u001b[0;34m,\u001b[0m \u001b[0mcancellation_manager\u001b[0m\u001b[0;34m=\u001b[0m\u001b[0;32mNone\u001b[0m\u001b[0;34m)\u001b[0m\u001b[0;34m:\u001b[0m\u001b[0;34m\u001b[0m\u001b[0;34m\u001b[0m\u001b[0m\n",
      "\u001b[0;32m~/.conda/envs/MyEnv/lib/python3.7/site-packages/tensorflow/python/eager/function.py\u001b[0m in \u001b[0;36m_call_flat\u001b[0;34m(self, args, captured_inputs, cancellation_manager)\u001b[0m\n\u001b[1;32m   1744\u001b[0m       \u001b[0;31m# No tape is watching; skip to running the function.\u001b[0m\u001b[0;34m\u001b[0m\u001b[0;34m\u001b[0m\u001b[0;34m\u001b[0m\u001b[0m\n\u001b[1;32m   1745\u001b[0m       return self._build_call_outputs(self._inference_function.call(\n\u001b[0;32m-> 1746\u001b[0;31m           ctx, args, cancellation_manager=cancellation_manager))\n\u001b[0m\u001b[1;32m   1747\u001b[0m     forward_backward = self._select_forward_and_backward_functions(\n\u001b[1;32m   1748\u001b[0m         \u001b[0margs\u001b[0m\u001b[0;34m,\u001b[0m\u001b[0;34m\u001b[0m\u001b[0;34m\u001b[0m\u001b[0m\n",
      "\u001b[0;32m~/.conda/envs/MyEnv/lib/python3.7/site-packages/tensorflow/python/eager/function.py\u001b[0m in \u001b[0;36mcall\u001b[0;34m(self, ctx, args, cancellation_manager)\u001b[0m\n\u001b[1;32m    596\u001b[0m               \u001b[0minputs\u001b[0m\u001b[0;34m=\u001b[0m\u001b[0margs\u001b[0m\u001b[0;34m,\u001b[0m\u001b[0;34m\u001b[0m\u001b[0;34m\u001b[0m\u001b[0m\n\u001b[1;32m    597\u001b[0m               \u001b[0mattrs\u001b[0m\u001b[0;34m=\u001b[0m\u001b[0mattrs\u001b[0m\u001b[0;34m,\u001b[0m\u001b[0;34m\u001b[0m\u001b[0;34m\u001b[0m\u001b[0m\n\u001b[0;32m--> 598\u001b[0;31m               ctx=ctx)\n\u001b[0m\u001b[1;32m    599\u001b[0m         \u001b[0;32melse\u001b[0m\u001b[0;34m:\u001b[0m\u001b[0;34m\u001b[0m\u001b[0;34m\u001b[0m\u001b[0m\n\u001b[1;32m    600\u001b[0m           outputs = execute.execute_with_cancellation(\n",
      "\u001b[0;32m~/.conda/envs/MyEnv/lib/python3.7/site-packages/tensorflow/python/eager/execute.py\u001b[0m in \u001b[0;36mquick_execute\u001b[0;34m(op_name, num_outputs, inputs, attrs, ctx, name)\u001b[0m\n\u001b[1;32m     58\u001b[0m     \u001b[0mctx\u001b[0m\u001b[0;34m.\u001b[0m\u001b[0mensure_initialized\u001b[0m\u001b[0;34m(\u001b[0m\u001b[0;34m)\u001b[0m\u001b[0;34m\u001b[0m\u001b[0;34m\u001b[0m\u001b[0m\n\u001b[1;32m     59\u001b[0m     tensors = pywrap_tfe.TFE_Py_Execute(ctx._handle, device_name, op_name,\n\u001b[0;32m---> 60\u001b[0;31m                                         inputs, attrs, num_outputs)\n\u001b[0m\u001b[1;32m     61\u001b[0m   \u001b[0;32mexcept\u001b[0m \u001b[0mcore\u001b[0m\u001b[0;34m.\u001b[0m\u001b[0m_NotOkStatusException\u001b[0m \u001b[0;32mas\u001b[0m \u001b[0me\u001b[0m\u001b[0;34m:\u001b[0m\u001b[0;34m\u001b[0m\u001b[0;34m\u001b[0m\u001b[0m\n\u001b[1;32m     62\u001b[0m     \u001b[0;32mif\u001b[0m \u001b[0mname\u001b[0m \u001b[0;32mis\u001b[0m \u001b[0;32mnot\u001b[0m \u001b[0;32mNone\u001b[0m\u001b[0;34m:\u001b[0m\u001b[0;34m\u001b[0m\u001b[0;34m\u001b[0m\u001b[0m\n",
      "\u001b[0;31mInvalidArgumentError\u001b[0m:  Can not squeeze dim[0], expected a dimension of 1, got 32\n\t [[node model_25/bn_conv1/moments/Squeeze (defined at tmp/ipykernel_6177/510903563.py:9) ]] [Op:__inference_train_function_274265]\n\nFunction call stack:\ntrain_function\n"
     ]
    }
   ],
   "source": [
    "# Variables, 25 epochs so far\n",
    "epochs = 10\n",
    "batch_size = 64\n",
    "\n",
    "model.fit(train_generator, \n",
    "            steps_per_epoch=train_generator.samples // batch_size, \n",
    "            validation_data=validation_generator, \n",
    "            validation_steps=validation_generator.samples // batch_size,\n",
    "            epochs=epochs)\n",
    "\n",
    "# Save model to disk\n",
    "#path = os.path.join(os.getcwd(),'resnet_50.h5')\n",
    "model.save('Final_Model')\n",
    "print('Saved model to disk!')\n",
    "# Get labels\n",
    "labels = train_generator.class_indices\n",
    "# Invert labels\n",
    "classes = {}\n",
    "for key, value in labels.items():\n",
    "    classes[value] = key.capitalize()\n",
    "# Save classes to file\n",
    "with open(os.path.join(os.getcwd(),'classes.pkl'), 'wb') as file:\n",
    "    pickle.dump(classes, file)\n",
    "print('Saved classes to disk!')"
   ]
  },
  {
   "cell_type": "code",
   "execution_count": null,
   "id": "ede93dba-5e34-4790-80a7-d57325e2d794",
   "metadata": {},
   "outputs": [],
   "source": []
  }
 ],
 "metadata": {
  "kernelspec": {
   "display_name": "Python 3 (ipykernel)",
   "language": "python",
   "name": "python3"
  },
  "language_info": {
   "codemirror_mode": {
    "name": "ipython",
    "version": 3
   },
   "file_extension": ".py",
   "mimetype": "text/x-python",
   "name": "python",
   "nbconvert_exporter": "python",
   "pygments_lexer": "ipython3",
   "version": "3.7.11"
  }
 },
 "nbformat": 4,
 "nbformat_minor": 5
}
