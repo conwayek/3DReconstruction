{
 "cells": [
  {
   "cell_type": "code",
   "execution_count": 31,
   "id": "d8e513cf-4d7b-4d44-aa95-5f0cf1c7c944",
   "metadata": {},
   "outputs": [],
   "source": [
    "import os\n",
    "import rasterio\n",
    "import matplotlib.pyplot as plt\n",
    "import numpy as np"
   ]
  },
  {
   "cell_type": "code",
   "execution_count": 12,
   "id": "b0a0d152-6dfb-4de5-91e1-3c397d49e222",
   "metadata": {},
   "outputs": [
    {
     "name": "stdout",
     "output_type": "stream",
     "text": [
      "/scratch/e.conway/3DReconstruction/CNN_Buildings/Datasets/Dataset 1/Building/Building3422.tif\n"
     ]
    }
   ],
   "source": [
    "direct = '/scratch/e.conway/3DReconstruction/CNN_Buildings/Datasets/Dataset 1/Building'\n",
    "files = os.listdir(direct)\n",
    "file=files[0]\n",
    "print(os.path.join(direct,file))"
   ]
  },
  {
   "cell_type": "code",
   "execution_count": 30,
   "id": "5072c814-3180-4654-a425-7a2bafbe584a",
   "metadata": {},
   "outputs": [],
   "source": [
    "xmin=[] ; xmax = []; ymin = []; ymax = [] ; fname = [] ; label = []\n",
    "for file in files:\n",
    "    dataset = rasterio.open(os.path.join(direct,file))\n",
    "    band1 = dataset.read(1)\n",
    "    xmin.append(0) ; xmax.append(band1.shape[0]) ; ymin.append(0) ; ymax.append(band1.shape[1])\n",
    "    fname.append(str(file))\n",
    "    label.append('Building')"
   ]
  },
  {
   "cell_type": "code",
   "execution_count": 33,
   "id": "ab5d2f78-8ad1-4053-8190-0d25c8c4b6c9",
   "metadata": {},
   "outputs": [],
   "source": [
    "with open('annotations.txt','w') as f:\n",
    "    for i in range(len(xmin)):\n",
    "        f.write(str(fname[i])+','+str(xmin[i])+','+str(ymin[i])+','+str(xmax[i])+','+str(ymax[i])+','+str(label[i])+'\\n')"
   ]
  },
  {
   "cell_type": "code",
   "execution_count": null,
   "id": "2913ec96-6941-4796-bcdd-df52e44670e5",
   "metadata": {},
   "outputs": [],
   "source": []
  }
 ],
 "metadata": {
  "kernelspec": {
   "display_name": "Python 3 (ipykernel)",
   "language": "python",
   "name": "python3"
  },
  "language_info": {
   "codemirror_mode": {
    "name": "ipython",
    "version": 3
   },
   "file_extension": ".py",
   "mimetype": "text/x-python",
   "name": "python",
   "nbconvert_exporter": "python",
   "pygments_lexer": "ipython3",
   "version": "3.7.11"
  }
 },
 "nbformat": 4,
 "nbformat_minor": 5
}
