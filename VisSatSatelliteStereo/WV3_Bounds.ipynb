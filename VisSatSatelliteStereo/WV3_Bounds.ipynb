{
 "cells": [
  {
   "cell_type": "code",
   "execution_count": 104,
   "id": "f81c1584-9b3f-4091-9105-0759331f2e21",
   "metadata": {},
   "outputs": [],
   "source": [
    "import rasterio\n",
    "import glob\n",
    "import tarfile\n",
    "import os\n",
    "import numpy as np\n",
    "from geopy import distance\n",
    "import matplotlib.pyplot as plt\n",
    "import utm"
   ]
  },
  {
   "cell_type": "code",
   "execution_count": 18,
   "id": "e388c8e4-6cbf-4525-bcdf-22011182004f",
   "metadata": {},
   "outputs": [],
   "source": [
    "direct = '/scratch/e.conway/3DReconstruction/Jacksonville/Jacksonville_Images'\n",
    "files = glob.glob(direct+'/*.NTF')"
   ]
  },
  {
   "cell_type": "code",
   "execution_count": 50,
   "id": "c7c9569e-d455-4869-a390-b844b5d964dc",
   "metadata": {},
   "outputs": [],
   "source": [
    "rpcfiles = []\n",
    "nwlons = []\n",
    "nwlats = []\n",
    "selats = []\n",
    "selons = []\n",
    "ntffiles = []\n",
    "\n",
    "\n",
    "for file in files:\n",
    "    ntffiles.append(file)\n",
    "    with rasterio.open(file) as f:\n",
    "        width = f.width\n",
    "        height = f.height  \n",
    "        \n",
    "    order_id = file.split('-P1BS-')[1].split('.NTF')[0].split('_P001')[0]\n",
    "    \n",
    "    tar = tarfile.open(file.split('.NTF')[0]+'.tar')\n",
    "    tar.extractall(file.split('.NTF')[0])\n",
    "    \n",
    "    subfolder = 'DVD_VOL_1'\n",
    "    for x in os.listdir(file.split('.NTF')[0]+'/'+order_id):\n",
    "        if 'DVD_VOL' in x:\n",
    "            subfolder = x\n",
    "            break\n",
    "            \n",
    "    des_folder = os.path.join(file.split('.NTF')[0], order_id, subfolder, order_id)\n",
    "    rpcfile = glob.glob(des_folder+'/*.XML')[0]\n",
    "    rpcfiles.append(rpcfile)\n",
    "\n",
    "    with open(rpcfile,'r') as f:\n",
    "        rpcdata = f.readlines()\n",
    "    for line in rpcdata:\n",
    "        if 'NWLAT' in line:\n",
    "            NWLAT = np.float64(line.split('<NWLAT>')[1].split('</NWLAT>')[0])\n",
    "        if 'NWLONG' in line:\n",
    "            NWLON = np.float64(line.split('<NWLONG>')[1].split('</NWLONG>')[0])\n",
    "        if 'SELAT' in line:\n",
    "            SELAT = np.float64(line.split('<SELAT>')[1].split('</SELAT>')[0])\n",
    "        if 'SELONG' in line:\n",
    "            SELON = np.float64(line.split('<SELONG>')[1].split('</SELONG>')[0])\n",
    "            \n",
    "    nwlons.append(NWLON)\n",
    "    nwlats.append(NWLAT)\n",
    "    selats.append(SELAT)\n",
    "    selons.append(SELON)"
   ]
  },
  {
   "cell_type": "code",
   "execution_count": 97,
   "id": "592140e7-40d4-4d54-9d76-2712f67249ab",
   "metadata": {},
   "outputs": [
    {
     "name": "stdout",
     "output_type": "stream",
     "text": [
      "[-81.71058971 -81.70594284 -81.70878551 -81.72141186 -81.709138\n",
      " -81.71275544 -81.71220166 -81.71560309 -81.71341674 -81.71858272\n",
      " -81.71065042 -81.72593644 -81.70515401 -81.73540434 -81.71511306\n",
      " -81.71194053 -81.70974045 -81.71261759 -81.71416272 -81.70875079\n",
      " -81.71462044 -81.72418291 -81.73283814 -81.71263839 -81.71196386\n",
      " -81.71326345]\n",
      "[29.29816173 29.28682489 30.23222955 30.1962715  30.23453052 30.23367767\n",
      " 30.23398577 30.22516783 30.24453232 30.23252569 30.23230116 30.23242249\n",
      " 30.23705342 30.23110923 30.23075314 30.23197812 30.23503531 30.21364417\n",
      " 30.22664882 30.23437882 30.21119797 30.22797912 30.23278321 30.2306775\n",
      " 30.23344324 30.22738323]\n"
     ]
    }
   ],
   "source": [
    "print(nwlons)\n",
    "print(selats)"
   ]
  },
  {
   "cell_type": "code",
   "execution_count": 116,
   "id": "965fb824-cfa3-4ff3-9260-a29c8c82c612",
   "metadata": {},
   "outputs": [
    {
     "name": "stdout",
     "output_type": "stream",
     "text": [
      "-81.73540434 -81.52712561\n",
      "29.28682489 30.39216345\n",
      "96.10434368329275 110.8676263330453\n",
      "6451.612903225807 5592.507427737479\n"
     ]
    }
   ],
   "source": [
    "nwlons = np.array(nwlons,dtype=np.float64)\n",
    "nwlats = np.array(nwlats,dtype=np.float64)\n",
    "selons = np.array(selons,dtype=np.float64)\n",
    "selats = np.array(selats,dtype=np.float64)\n",
    "\n",
    "max_lon = np.max(selons) ; min_lon = np.min(nwlons)\n",
    "max_lat = np.max(nwlats) ; min_lat = np.min(selats)\n",
    "\n",
    "print(min_lon,max_lon)\n",
    "print(min_lat,max_lat)\n",
    "\n",
    "pt1 = (max_lat,max_lon)\n",
    "pt2 = (max_lat,max_lon+1)\n",
    "pt3 = (max_lat+1,max_lon)\n",
    "\n",
    "vert_dist = distance.distance(pt1,pt2).km\n",
    "horz_dist = distance.distance(pt1,pt3).km\n",
    "print(vert_dist,horz_dist)\n",
    "\n",
    "nres_x = 2000*1e-5 #degrees\n",
    "nres_y = nres_x *(vert_dist/horz_dist) # degrees\n",
    "\n",
    "npix_x = 2000/0.31\n",
    "npix_y = 2000*(vert_dist/horz_dist)/0.31\n",
    "\n",
    "print(npix_x,npix_y)\n"
   ]
  },
  {
   "cell_type": "code",
   "execution_count": 117,
   "id": "29f2e000-5ab9-4eb1-a5f8-9e550a1e18fa",
   "metadata": {},
   "outputs": [],
   "source": [
    "lon = np.arange(min_lon,max_lon,nres_x)\n",
    "lat = np.arange(min_lat,max_lat,nres_y)\n",
    "nlon = len(lon)\n",
    "nlat = len(lat)\n",
    "\n",
    "tile_count = np.zeros((nlat-1,nlon-1),dtype=int)"
   ]
  },
  {
   "cell_type": "code",
   "execution_count": 118,
   "id": "82f248a5-0c5f-4410-8ca7-d4d9b32bde70",
   "metadata": {},
   "outputs": [],
   "source": [
    "for i in range(nlat-1):\n",
    "    lat_lower = lat[i]\n",
    "    lat_upper = lat[i+1]\n",
    "    for j in range(nlon-1):\n",
    "        lon_left = lon[j]\n",
    "        lon_right = lon[j+1]\n",
    "        \n",
    "        idy = np.logical_and(nwlats>=lat_upper,selats<=lat_lower)\n",
    "        idx = np.logical_and(nwlons<=lon_left,selons>=lon_right)\n",
    "        idf = np.logical_and(idx,idy)\n",
    "        tile[i,j] = np.sum(idf)"
   ]
  },
  {
   "cell_type": "code",
   "execution_count": 119,
   "id": "51dcf62c-b650-4551-b2bd-d83a7e111d93",
   "metadata": {},
   "outputs": [
    {
     "data": {
      "image/png": "[encoded data removed]",
      "text/plain": [
       "<Figure size 432x288 with 2 Axes>"
      ]
     },
     "metadata": {
      "needs_background": "light"
     },
     "output_type": "display_data"
    }
   ],
   "source": [
    "fig=plt.figure()\n",
    "sc=plt.imshow(tile[::-1,:],aspect='auto',vmin=20,vmax=25,extent=[min_lon,max_lon,min_lat,max_lat])\n",
    "plt.colorbar(sc)\n",
    "plt.ylim([30,30.4])\n",
    "plt.show()"
   ]
  },
  {
   "cell_type": "code",
   "execution_count": 127,
   "id": "85e44fff-5041-4a7f-b33d-e390ad042225",
   "metadata": {},
   "outputs": [
    {
     "name": "stdout",
     "output_type": "stream",
     "text": [
      "433103.0022025613 3347543.9768646415 N 17\n",
      "435027.021176564 3347532.378677428 N 17\n",
      "436951.0362244663 3347521.118977862 N 17\n",
      "438875.0474625215 3347510.1977611287 N 17\n",
      "440799.05500698346 3347499.6150225555 N 17\n",
      "442723.0589741064 3347489.370757616 N 17\n",
      "433114.7554477696 3349465.1799097187 N 17\n",
      "435038.4363397825 3349453.5777462376 N 17\n",
      "436962.1133105769 3349442.3141864254 N 17\n",
      "438885.78647626145 3349431.3892254666 N 17\n",
      "440809.4559529454 3349420.80285869 N 17\n",
      "442733.12185673846 3349410.5550815696 N 17\n",
      "433126.51481730404 3351386.387971652 N 17\n",
      "435049.8574511864 3351374.7818361428 N 17\n",
      "436973.19616873254 3351363.514420199 N 17\n",
      "438896.5310859064 3351352.585719007 N 17\n",
      "440819.8623186726 3351341.995727895 N 17\n",
      "442743.18998299626 3351331.7444423367 N 17\n",
      "433138.28031013045 3353307.601052179 N 17\n",
      "435061.28450977145 3353295.990948882 N 17\n",
      "436984.2847979587 3353284.7196809235 N 17\n",
      "438907.2812905115 3353273.78724349 N 17\n",
      "440830.27410325 3353263.193631911 N 17\n",
      "442753.26335199457 3353252.938841662 N 17\n",
      "433150.051925214 3355228.819153031 N 17\n",
      "435072.7175145325 3355217.205086188 N 17\n",
      "436995.3791972801 3355205.929970333 N 17\n",
      "438918.0370891315 3355194.9938006527 N 17\n",
      "440840.691305762 3355184.3965724776 N 17\n",
      "442763.34196284757 3355174.138281283 N 17\n",
      "433161.8296615194 3357150.042275942 N 17\n",
      "435084.1564644642 3357138.4242497957 N 17\n",
      "437006.47936572117 3357127.1452901643 N 17\n",
      "438928.7984808204 3357116.205392233 N 17\n",
      "440851.11392529256 3357105.6045513335 N 17\n",
      "442773.425814669 3357095.342762941 N 17\n",
      "433173.61351801077 3359071.270422642 N 17\n",
      "435095.6013585604 3359059.648441438 N 17\n",
      "437017.5853023056 3359048.36564215 N 17\n",
      "438939.56546463177 3359037.4220199645 N 17\n",
      "440861.54196092504 3359026.8175702137 N 17\n",
      "442783.514906572 3359016.5522883735 N 17\n"
     ]
    }
   ],
   "source": [
    "#final tile with over N views\n",
    "Viewmin=10\n",
    "\n",
    "for i in range(nlat-1):\n",
    "    lat_lower = lat[i]\n",
    "    lat_upper = lat[i+1]\n",
    "    for j in range(nlon-1):\n",
    "        lon_left = lon[j]\n",
    "        lon_right = lon[j+1]\n",
    "        if(tile[i,j]>=Viewmin):\n",
    "            #print(lat_upper,lon_left)\n",
    "            utm_point = utm.from_latlon(lat_upper,lon_left)\n",
    "            easting = utm_point[0]\n",
    "            northing = utm_point[1]\n",
    "            zone = utm_point[2]\n",
    "            if(lat_upper>=0):\n",
    "                hemi = 'N'\n",
    "            else:\n",
    "                hemi = 'S'\n",
    "            print(easting,northing,hemi,zone)\n"
   ]
  },
  {
   "cell_type": "code",
   "execution_count": null,
   "id": "2123224e-1406-416d-93b0-6e08f922a10d",
   "metadata": {},
   "outputs": [],
   "source": []
  }
 ],
 "metadata": {
  "kernelspec": {
   "display_name": "Python 3 (ipykernel)",
   "language": "python",
   "name": "python3"
  },
  "language_info": {
   "codemirror_mode": {
    "name": "ipython",
    "version": 3
   },
   "file_extension": ".py",
   "mimetype": "text/x-python",
   "name": "python",
   "nbconvert_exporter": "python",
   "pygments_lexer": "ipython3",
   "version": "3.10.5"
  }
 },
 "nbformat": 4,
 "nbformat_minor": 5
}
